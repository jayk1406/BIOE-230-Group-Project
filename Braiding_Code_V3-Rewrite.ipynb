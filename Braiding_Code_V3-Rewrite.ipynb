{
 "cells": [
  {
   "cell_type": "code",
   "execution_count": 1,
   "id": "bd227f4c",
   "metadata": {},
   "outputs": [],
   "source": [
    "\n",
    "\n",
    "import sys\n",
    "import os\n",
    "#sys.path.append(\"/Users/smiths/Code/EtecDual/InitialDevelopment\")\n",
    "import Etec2Da as Et  # be sure to put EtecDualv6.py in the this local folder (or elsewhere and add the path above)\n",
    "import numpy as np\n",
    "get_ipython().magic('matplotlib inline')\n",
    "import matplotlib.pyplot as plt\n",
    "import matplotlib.tri as mpltri\n",
    "import math\n",
    "import scipy.io as sio\n",
    "from scipy.optimize import curve_fit\n",
    "import time\n",
    "import copy\n",
    "import pandas as pd\n",
    "import random\n",
    "import itertools\n",
    "from tqdm import tqdm\n",
    "import matplotlib.animation as animation\n",
    "import matplotlib.pyplot as plt\n",
    "from IPython.display import HTML\n",
    "import base64\n",
    "import imageio\n",
    "import ast\n",
    "from scipy.interpolate import CubicSpline\n",
    "import contextlib"
   ]
  },
  {
   "cell_type": "code",
   "execution_count": 7,
   "id": "3bbc4936",
   "metadata": {},
   "outputs": [],
   "source": [
    "#initialize variables\n",
    "#verticies\n",
    "n=2\n",
    "#particles\n",
    "m=4\n",
    "\n",
    "#num steps\n",
    "num_steps=2\n",
    "time=0\n",
    "\n",
    "vertices = [[i % n, i // n, []] for i in range(m)]"
   ]
  },
  {
   "cell_type": "code",
   "execution_count": 17,
   "id": "f835f11e",
   "metadata": {},
   "outputs": [],
   "source": [
    "# Add particles to the vertices\n",
    "particle_indices = [i for i in range(m)]\n",
    "for i, vertex in zip(particle_indices, vertices):\n",
    "    vertex[2].append(i)\n",
    "\n",
    "# Generate a list of all possible pairs of vertices\n",
    "vertex_pairs = list(itertools.combinations(vertices, 2))\n",
    "\n",
    "# Filter the pairs to keep only those that are within 1 unit of distance\n",
    "all_edges = [(v1, v2) for v1, v2 in vertex_pairs if abs(v1[0] - v2[0]) + abs(v1[1] - v2[1]) == 1]"
   ]
  },
  {
   "cell_type": "code",
   "execution_count": 15,
   "id": "6c80cf44",
   "metadata": {},
   "outputs": [
    {
     "name": "stdout",
     "output_type": "stream",
     "text": [
      "[([0, 0, [1, 0, 0]], [1, 0, [2, 1, 1]]), ([0, 0, [1, 0, 0]], [0, 1, [3, 2, 2]]), ([0, 0, [1, 0, 0]], [1, 1, [0, 3, 3]]), ([1, 0, [2, 1, 1]], [0, 1, [3, 2, 2]]), ([1, 0, [2, 1, 1]], [1, 1, [0, 3, 3]]), ([0, 1, [3, 2, 2]], [1, 1, [0, 3, 3]])]\n"
     ]
    }
   ],
   "source": [
    "print(vertex_pairs)"
   ]
  },
  {
   "cell_type": "code",
   "execution_count": 16,
   "id": "ada7f206",
   "metadata": {},
   "outputs": [
    {
     "name": "stdout",
     "output_type": "stream",
     "text": [
      "[0, 1, 2, 3, 4]\n"
     ]
    }
   ],
   "source": [
    "print(particle_indices)"
   ]
  },
  {
   "cell_type": "code",
   "execution_count": null,
   "id": "bc0215a7",
   "metadata": {},
   "outputs": [],
   "source": []
  }
 ],
 "metadata": {
  "kernelspec": {
   "display_name": "Python 3",
   "language": "python",
   "name": "python3"
  },
  "language_info": {
   "codemirror_mode": {
    "name": "ipython",
    "version": 3
   },
   "file_extension": ".py",
   "mimetype": "text/x-python",
   "name": "python",
   "nbconvert_exporter": "python",
   "pygments_lexer": "ipython3",
   "version": "3.8.8"
  }
 },
 "nbformat": 4,
 "nbformat_minor": 5
}
